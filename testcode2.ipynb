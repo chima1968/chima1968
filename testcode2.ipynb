{
 "cells": [
  {
   "cell_type": "code",
   "execution_count": 7,
   "metadata": {},
   "outputs": [
    {
     "name": "stdout",
     "output_type": "stream",
     "text": [
      "{}\n",
      "count: {'i': 1, 'am': 1, 'a': 2, 'boy': 1, 'she': 1, 'is': 1, 'girl': 1, 'and': 1, 'we': 2, 'know': 1, 'what': 1, 'are': 1, 'in': 1, 'nature': 1}\n"
     ]
    }
   ],
   "source": [
    "from email.policy import default\n",
    "\n",
    "count=dict()\n",
    "words='i am a boy she is a girl and we know what we are in  nature'\n",
    "words=words.split()\n",
    "\n",
    "dict1={\"A\":1,\"B\":2,\"C\":3,\"D\":4}\n",
    "\n",
    "dict1.clear()\n",
    "print(dict1)\n",
    "\n",
    "for word in words:\n",
    "    count[word]=count.get(word,0)+1\n",
    "print(\"count:\",count)    "
   ]
  },
  {
   "cell_type": "code",
   "execution_count": 7,
   "metadata": {},
   "outputs": [
    {
     "name": "stdout",
     "output_type": "stream",
     "text": [
      "[5, 10]\n"
     ]
    },
    {
     "ename": "TypeError",
     "evalue": "'types.GenericAlias' object cannot be interpreted as an integer",
     "output_type": "error",
     "traceback": [
      "\u001b[1;31m---------------------------------------------------------------------------\u001b[0m",
      "\u001b[1;31mTypeError\u001b[0m                                 Traceback (most recent call last)",
      "\u001b[1;32mc:\\vscode\\testcode2.ipynb Cell 2\u001b[0m in \u001b[0;36m<cell line: 1>\u001b[1;34m()\u001b[0m\n\u001b[0;32m      <a href='vscode-notebook-cell:/c%3A/vscode/testcode2.ipynb#X11sZmlsZQ%3D%3D?line=8'>9</a>\u001b[0m start\u001b[39m=\u001b[39mlist1[\u001b[39m0\u001b[39m]\n\u001b[0;32m     <a href='vscode-notebook-cell:/c%3A/vscode/testcode2.ipynb#X11sZmlsZQ%3D%3D?line=9'>10</a>\u001b[0m end\u001b[39m=\u001b[39m\u001b[39mlist\u001b[39m[\u001b[39m-\u001b[39m\u001b[39m1\u001b[39m]\n\u001b[1;32m---> <a href='vscode-notebook-cell:/c%3A/vscode/testcode2.ipynb#X11sZmlsZQ%3D%3D?line=12'>13</a>\u001b[0m \u001b[39mfor\u001b[39;00m i \u001b[39min\u001b[39;00m \u001b[39mrange\u001b[39;49m(start,end):\n\u001b[0;32m     <a href='vscode-notebook-cell:/c%3A/vscode/testcode2.ipynb#X11sZmlsZQ%3D%3D?line=13'>14</a>\u001b[0m     \u001b[39mfor\u001b[39;00m j \u001b[39min\u001b[39;00m \u001b[39mrange\u001b[39m(\u001b[39mlen\u001b[39m(list1)):\n\u001b[0;32m     <a href='vscode-notebook-cell:/c%3A/vscode/testcode2.ipynb#X11sZmlsZQ%3D%3D?line=14'>15</a>\u001b[0m         \u001b[39mif\u001b[39;00m list1[j]\u001b[39m%\u001b[39mi\u001b[39m==\u001b[39m\u001b[39m0\u001b[39m:\n",
      "\u001b[1;31mTypeError\u001b[0m: 'types.GenericAlias' object cannot be interpreted as an integer"
     ]
    }
   ],
   "source": [
    "for t in range(int(input())):\n",
    "    \n",
    "    length_of_list=int(input(''))\n",
    "    \n",
    "    list1=list(map(int,input('').split()[:length_of_list]))\n",
    "    \n",
    "    print(list1)\n",
    "    \n",
    "    start=list1[0]\n",
    "    end=list[-1]\n",
    "    \n",
    "    \n",
    "    for i in range(start,end):\n",
    "        for j in range(len(list1)):\n",
    "            if list1[j]%i==0:\n",
    "                print(list1[j])\n",
    "        "
   ]
  },
  {
   "cell_type": "code",
   "execution_count": 5,
   "metadata": {},
   "outputs": [
    {
     "name": "stdout",
     "output_type": "stream",
     "text": [
      "4\n"
     ]
    }
   ],
   "source": [
    "lit2=[2,3,4]\n",
    "\n",
    "index=lit2[-1]\n",
    "print(index)"
   ]
  },
  {
   "cell_type": "code",
   "execution_count": 10,
   "metadata": {},
   "outputs": [
    {
     "name": "stdout",
     "output_type": "stream",
     "text": [
      "[5]\n",
      "[5, 10]\n",
      "[5, 10, 18]\n",
      "18\n",
      "18\n"
     ]
    }
   ],
   "source": [
    "def stack(stack):\n",
    "    stack=[]\n",
    "    return stack\n",
    "def push(stack,item):\n",
    "    stack.append(item)\n",
    "    return stack\n",
    "def pop(stack):\n",
    "    if len(stack)==0:\n",
    "        print(\"stack is empty\")\n",
    "    return stack.pop()\n",
    "def max_in_stack(stack):\n",
    "    return max(stack)\n",
    "\n",
    "list2=[]\n",
    "\n",
    "print(push(list2,5))\n",
    "print(push(list2,10))\n",
    "print(push(list2,18))\n",
    "print(max_in_stack(list2))\n",
    "print(pop(list2))\n"
   ]
  },
  {
   "cell_type": "code",
   "execution_count": 15,
   "metadata": {},
   "outputs": [
    {
     "name": "stdout",
     "output_type": "stream",
     "text": [
      "14\n",
      "14\n"
     ]
    }
   ],
   "source": [
    "front=[]\n",
    "back=[]\n",
    "def push_back():\n",
    "    if back:#if back isnt empty return\n",
    "        return\n",
    "    while front:#if front isnt empty\n",
    "        item=front.pop(-1)#remove item from the back of front \n",
    "        back.append(item)#append item to back\n",
    "def dequeue():\n",
    "    push_back()\n",
    "    back.pop()\n",
    "def enqueue(x):\n",
    "    front.append(x)\n",
    "\n",
    "for i in range(int(input())):\n",
    "    spilt=list(map(int,input().split()))\n",
    "    \n",
    "    if(spilt[0]==1):\n",
    "        enqueue(spilt[1])\n",
    "        #\n",
    "    elif(spilt[0]==2):\n",
    "        dequeue()\n",
    "        #\n",
    "    else:\n",
    "        push_back()\n",
    "        print(back[-1])\n",
    "    \n"
   ]
  },
  {
   "cell_type": "code",
   "execution_count": 24,
   "metadata": {},
   "outputs": [
    {
     "name": "stdout",
     "output_type": "stream",
     "text": [
      "[10, 20, 30]\n"
     ]
    }
   ],
   "source": [
    "class queue:\n",
    "    def __init__(self) -> None:\n",
    "        self.queue=[]\n",
    "        \n",
    "    def enqueue(self,item):\n",
    "        self.queue.append(item)\n",
    "        \n",
    "    def dequeue(self):\n",
    "        if(len(self.queue)==0):\n",
    "            print(\"queue is empty\")\n",
    "        return self.queue.pop(0)\n",
    "    def display(self):\n",
    "        print(self.queue)\n",
    "        \n",
    "obj=queue()\n",
    "obj.enqueue(100)\n",
    "obj.enqueue(10)\n",
    "obj.enqueue(20)\n",
    "obj.enqueue(30)\n",
    "obj.dequeue()\n",
    "obj.display()\n",
    "        \n",
    "    "
   ]
  },
  {
   "cell_type": "code",
   "execution_count": 4,
   "metadata": {},
   "outputs": [
    {
     "name": "stdout",
     "output_type": "stream",
     "text": [
      "[10, 40, 50, 67, 70, 80, 89]\n",
      "the index of the number  you are looking for is 4\n"
     ]
    }
   ],
   "source": [
    "def binary_search(arr,low,high,x):\n",
    "    if high>=low:\n",
    "        mid=(low+high)//2\n",
    "        \n",
    "        if arr[mid]==x:\n",
    "            return mid\n",
    "        elif arr[mid]<x:\n",
    "            #if element held in index arr[mid]< the value that is tto be searched \n",
    "            #that means\n",
    "            return binary_search(arr,mid-1,high,x)\n",
    "        else:\n",
    "            return binary_search(arr,mid+1,high,x)\n",
    "    else:\n",
    "        return -1\n",
    "    \n",
    "arr=[10,70,80,40,50,67,89]\n",
    "arr.sort()\n",
    "x=70\n",
    "print(arr)\n",
    "\n",
    "result=binary_search(arr,0,len(arr)-1,x)\n",
    "\n",
    "if result!=1:\n",
    "   print(\"the index of the number  you are looking for is\",result)\n",
    "else:\n",
    "    print(\"the number you are looking for is not present\")"
   ]
  },
  {
   "cell_type": "code",
   "execution_count": 14,
   "metadata": {},
   "outputs": [
    {
     "name": "stdout",
     "output_type": "stream",
     "text": [
      "Unsorted Array\n",
      "[8, 7, 2, 1, 0, 9, 6]\n"
     ]
    }
   ],
   "source": [
    "# Quick sort in Python\n",
    "\n",
    "# function to find the partition position\n",
    "def partition(array, low, high):\n",
    "\n",
    "  # choose the rightmost element as pivot\n",
    "  pivot = array[high]\n",
    "\n",
    "  # pointer for greater element\n",
    "  i = low - 1\n",
    "\n",
    "  # traverse through all elements\n",
    "  # compare each element with pivot\n",
    "  for j in range(low, high):\n",
    "    if array[j] <= pivot:\n",
    "      # if element smaller than pivot is found\n",
    "      # swap it with the greater element pointed by i\n",
    "      i = i + 1\n",
    "\n",
    "      # swapping element at i with element at j\n",
    "      (array[i], array[j]) = (array[j], array[i])\n",
    "\n",
    "  # swap the pivot element with the greater element specified by i\n",
    "  (array[i + 1], array[high]) = (array[high], array[i + 1])\n",
    "\n",
    "  # return the position from where partition is done\n",
    "  return i + 1\n",
    "\n",
    "# function to perform quicksort\n",
    "def quickSort(array, low, high):\n",
    "  if low < high:\n",
    "\n",
    "    # find pivot element such that\n",
    "    # element smaller than pivot are on the left\n",
    "    # element greater than pivot are on the right\n",
    "    pi = partition(array, low, high)\n",
    "\n",
    "    # recursive call on the left of pivot\n",
    "    quickSort(array, low, pi - 1)\n",
    "\n",
    "    # recursive call on the right of pivot\n",
    "    quickSort(array, pi + 1, high)\n",
    "\n",
    "\n",
    "data = [8, 7, 2, 1, 0, 9, 6]\n",
    "print(\"Unsorted Array\")\n",
    "print(data)\n",
    "\n",
    "size = len(data)\n",
    "\n",
    "quickSort(data, 0, size - 1)\n",
    "\n",
    "print('Sorted Array in Ascending Order:')\n",
    "print(data)\n",
    "            \n",
    "    \n",
    "\n",
    "    \n",
    "    \n",
    "    "
   ]
  },
  {
   "cell_type": "code",
   "execution_count": null,
   "metadata": {},
   "outputs": [],
   "source": [
    "import sqlite3\n",
    "\n",
    "conn=sqlite3.Connect('itunes.sqlite')\n",
    "cur=conn.cursor()\n",
    "\n",
    "cur.execute(\"DROP TABLE IF EXISTS Counts \")\n",
    "\n",
    "cur.close()"
   ]
  },
  {
   "cell_type": "code",
   "execution_count": null,
   "metadata": {},
   "outputs": [],
   "source": [
    "from fileinput import close\n",
    "import xml.etree.ElementTree as ET\n",
    "import sqlite3\n",
    "\n",
    "conn = sqlite3.connect('trackdb.sqlite')\n",
    "cur = conn.cursor()\n",
    "\n",
    "# Make some fresh tables using executescript()\n",
    "cur.executescript('''\n",
    "DROP TABLE IF EXISTS Artist;\n",
    "DROP TABLE IF EXISTS Album;\n",
    "DROP TABLE IF EXISTS Track;\n",
    "\n",
    "CREATE TABLE Artist (\n",
    "    id  INTEGER NOT NULL PRIMARY KEY AUTOINCREMENT UNIQUE,\n",
    "    name    TEXT UNIQUE\n",
    ");\n",
    "\n",
    "CREATE TABLE Album (\n",
    "    id  INTEGER NOT NULL PRIMARY KEY AUTOINCREMENT UNIQUE,\n",
    "    artist_id  INTEGER,\n",
    "    title   TEXT UNIQUE\n",
    ");\n",
    "\n",
    "CREATE TABLE Track (\n",
    "    id  INTEGER NOT NULL PRIMARY KEY \n",
    "        AUTOINCREMENT UNIQUE,\n",
    "    title TEXT  UNIQUE,\n",
    "    album_id  INTEGER,\n",
    "    len INTEGER, rating INTEGER, count INTEGER\n",
    ");\n",
    "''')\n",
    "\n",
    "\n",
    "fname = input('Library.xml    ')\n",
    "if ( len(fname) < 1 ) : fname = 'Library.xml'\n",
    "\n",
    "# <key>Track ID</key><integer>369</integer>\n",
    "# <key>Name</key><string>Another One Bites The Dust</string>\n",
    "# <key>Artist</key><string>Queen</string>\n",
    "def lookup(d, key):\n",
    "    found = False\n",
    "    for child in d:\n",
    "        if found : return child.text\n",
    "        if child.tag == 'key' and child.text == key :\n",
    "            found = True\n",
    "    return None\n",
    "\n",
    "stuff = ET.parse(fname)\n",
    "all = stuff.findall('dict/dict/dict')\n",
    "print('Dict count:', len(all))\n",
    "for entry in all:\n",
    "    if ( lookup(entry, 'Track ID') is None ) : continue\n",
    "\n",
    "    name = lookup(entry, 'Name')\n",
    "    artist = lookup(entry, 'Artist')\n",
    "    album = lookup(entry, 'Album')\n",
    "    genre=lookup(entry,'Genre')\n",
    "    count = lookup(entry, 'Play Count')\n",
    "    rating = lookup(entry, 'Rating')\n",
    "    length = lookup(entry, 'Total Time')\n",
    "\n",
    "    if name is None or artist is None or album is None : \n",
    "        continue\n",
    "\n",
    "    print(name, artist, album,genre, count, rating, length)\n",
    "\n",
    "    cur.execute('''INSERT OR IGNORE INTO Artist (name) \n",
    "        VALUES ( ? )''', ( artist, ) )\n",
    "    cur.execute('SELECT id FROM Artist WHERE name = ? ', (artist, ))\n",
    "    artist_id = cur.fetchone()[0]\n",
    "    \n",
    "    cur.execute('''INSERT OR IGNORE INTO Genre (name) VALUES (?)''',(genre,))\n",
    "    cur.execute('SELECT id FROM Genre WHERE name = ?',(genre,))\n",
    "    genre_id=cur.fetchone()[0]\n",
    "\n",
    "    cur.execute('''INSERT OR IGNORE INTO Album (title, artist_id) \n",
    "        VALUES ( ?, ? )''', ( album, artist_id ) )\n",
    "    cur.execute('SELECT id FROM Album WHERE title = ? ', (album, ))\n",
    "    album_id = cur.fetchone()[0]\n",
    "\n",
    "    cur.execute('''INSERT OR REPLACE INTO Track\n",
    "        (title, album_id, len, rating, count) \n",
    "        VALUES ( ?, ?, ?, ?, ? )''', \n",
    "        ( name, album_id, length, rating, count ) )\n",
    "\n",
    "    conn.commit()\n",
    "sqlstr='SELECT Track.title, Artist.name, Album.title, Genre.name FROM Track JOIN Genre JOIN Album JOIN Artist ON Track.genre_id = Genre.ID and Track.album_id = Album.id  AND Album.artist_id = Artist.id ORDER BY Artist.name LIMIT 3'\n",
    "\n",
    "for row in cur.execute(sqlstr):\n",
    "    print(str(row[0]),str(row[1]),str(row[2]),str(row[3]))\n",
    "cur.close()"
   ]
  }
 ],
 "metadata": {
  "kernelspec": {
   "display_name": "Python 3.10.2 64-bit",
   "language": "python",
   "name": "python3"
  },
  "language_info": {
   "codemirror_mode": {
    "name": "ipython",
    "version": 3
   },
   "file_extension": ".py",
   "mimetype": "text/x-python",
   "name": "python",
   "nbconvert_exporter": "python",
   "pygments_lexer": "ipython3",
   "version": "3.10.2"
  },
  "orig_nbformat": 4,
  "vscode": {
   "interpreter": {
    "hash": "ed08391039ffa6dd60f563bc5f49290592ef3d23dd0c906220995766ebfe1e49"
   }
  }
 },
 "nbformat": 4,
 "nbformat_minor": 2
}
